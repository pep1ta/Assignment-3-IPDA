

# Step 1: Merge the dataframes

